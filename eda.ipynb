{
 "cells": [
  {
   "cell_type": "code",
   "execution_count": null,
   "id": "88dde303",
   "metadata": {
    "vscode": {
     "languageId": "plaintext"
    }
   },
   "outputs": [],
   "source": [
    "import pandas as pd\n",
    "import matplotlib.pyplot as plt\n",
    "import seaborn as sns\n",
    "\n",
    "# Load cleaned data\n",
    "df = pd.read_csv(\"cleaned_customer_reviews.csv\")\n",
    "\n",
    "# 1. Summary Statistics\n",
    "print(\"Summary Statistics:\")\n",
    "print(df.describe())\n",
    "\n",
    "print(\"\\nSentiment Distribution:\")\n",
    "print(df['sentiment_polarity'].value_counts())\n",
    "\n",
    "# 2. Visualizations\n",
    "plt.figure(figsize=(12, 6))\n",
    "\n",
    "# Plot 1: Distribution of Ratings\n",
    "plt.subplot(1, 2, 1)\n",
    "sns.histplot(df['rating'], bins=5, kde=True)\n",
    "plt.title(\"Distribution of Customer Ratings\")\n",
    "\n",
    "# Plot 2: Sentiment Polarity vs. Rating\n",
    "plt.subplot(1, 2, 2)\n",
    "sns.scatterplot(x='sentiment_polarity', y='rating', data=df, alpha=0.6)\n",
    "plt.title(\"Sentiment vs. Rating\")\n",
    "\n",
    "plt.tight_layout()\n",
    "plt.savefig(\"plots/rating_sentiment_analysis.png\")\n",
    "plt.show()\n",
    "\n",
    "# Plot 3: Review Length Analysis\n",
    "plt.figure(figsize=(8, 4))\n",
    "sns.boxplot(x='rating', y='review_length', data=df)\n",
    "plt.title(\"Review Length by Rating\")\n",
    "plt.savefig(\"plots/review_length_by_rating.png\")\n",
    "plt.show()"
   ]
  }
 ],
 "metadata": {
  "language_info": {
   "name": "python"
  }
 },
 "nbformat": 4,
 "nbformat_minor": 5
}
